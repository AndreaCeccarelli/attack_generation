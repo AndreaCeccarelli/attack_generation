{
 "cells": [
  {
   "cell_type": "code",
   "execution_count": null,
   "id": "3a201678",
   "metadata": {},
   "outputs": [],
   "source": [
    "%load_ext autoreload\n",
    "%autoreload 2\n",
    "import sys\n",
    "import os\n",
    "PATH='/data/notebook/'\n",
    "\n",
    "cicids_competitors=open(PATH+\"cicids_competitors.csv\", \"a\")"
   ]
  },
  {
   "cell_type": "code",
   "execution_count": null,
   "id": "914aae7c",
   "metadata": {},
   "outputs": [],
   "source": [
    "#!{sys.executable} -m pip install pyod\n",
    "#!{sys.executable} -m pip install tgan"
   ]
  },
  {
   "cell_type": "code",
   "execution_count": null,
   "id": "468f1867",
   "metadata": {},
   "outputs": [],
   "source": [
    "import tgan\n",
    "from sklearn.preprocessing import OneHotEncoder\n",
    "\n",
    "from sklearn.ensemble import IsolationForest\n",
    "from pyod.models.cblof import CBLOF\n",
    "from tgan.model import TGANModel\n",
    "import tensorflow as tf\n",
    "tf.compat.v1.disable_eager_execution()"
   ]
  },
  {
   "cell_type": "code",
   "execution_count": null,
   "id": "ff2b7f48",
   "metadata": {},
   "outputs": [],
   "source": [
    "import pandas as pd\n",
    "import numpy as np\n",
    "import xgboost as xgb\n",
    "from sklearn.datasets import make_classification\n",
    "from sklearn.model_selection import train_test_split\n",
    "from sklearn.metrics import accuracy_score, confusion_matrix, matthews_corrcoef\n",
    "pd.set_option('display.max_colwidth', None)\n",
    "MKL_NUM_THREADS=6\n",
    "OMP_NUM_THREADS=6"
   ]
  },
  {
   "cell_type": "code",
   "execution_count": null,
   "id": "extreme-sense",
   "metadata": {},
   "outputs": [],
   "source": [
    "# scale and move the coordinates so they fit [0; 1] range\n",
    "def scale_to_01_range(x):\n",
    "    # compute the distribution range\n",
    "    value_range = (np.max(x) - np.min(x))\n",
    "\n",
    "    # move the distribution so that it starts from zero\n",
    "    # by extracting the minimal value from all its values\n",
    "    starts_from_zero = x - np.min(x)\n",
    "\n",
    "    # make the distribution fit [0; 1] by dividing by its range\n",
    "    if(value_range!=0):\n",
    "        return starts_from_zero / value_range\n",
    "    else:\n",
    "        return starts_from_zero\n",
    "\n",
    "def compute_TSNE(perplexity,X_data):\n",
    "    tsne =TSNE(n_components=2, perplexity=perplexity,\n",
    "     early_exaggeration=12.0, learning_rate='auto',\n",
    "     n_iter=1000, n_iter_without_progress=300,\n",
    "     min_grad_norm=1e-07, metric='euclidean',#init='pca',\n",
    "     verbose=0, \n",
    "     method='barnes_hut', angle=0.5, n_jobs=12).fit_transform(X_data)\n",
    "    \n",
    "    \n",
    "    # extract x and y coordinates representing the positions of the images on T-SNE plot\n",
    "    tx = tsne[:, 0]\n",
    "    ty = tsne[:, 1]\n",
    "\n",
    "    tx = scale_to_01_range(tx)\n",
    "    ty = scale_to_01_range(ty)\n",
    "    return tx, ty"
   ]
  },
  {
   "cell_type": "code",
   "execution_count": null,
   "id": "ee492cb1",
   "metadata": {},
   "outputs": [],
   "source": [
    "CICIDS_train_X=np.load('/home/notebook/cicids/CICIDS_train_X_no_attack.npy')[:,0:77]\n",
    "CICIDS_train_Y=np.zeros((CICIDS_train_X.shape[0],1))\n",
    "CICIDS_test_X=np.load('/home/notebook/cicids/CICIDS_test_X.npy')[:, 0:77]\n",
    "CICIDS_test_Y=np.load('/home/notebook/cicids/CICIDS_test_Y.npy')"
   ]
  },
  {
   "cell_type": "code",
   "execution_count": null,
   "id": "democratic-belize",
   "metadata": {},
   "outputs": [],
   "source": [
    "contamination= (np.sum(CICIDS_train_Y, axis=0)/CICIDS_train_Y.shape[0])[0]\n"
   ]
  },
  {
   "cell_type": "code",
   "execution_count": null,
   "id": "ea1afa2e",
   "metadata": {},
   "outputs": [],
   "source": [
    "pd.set_option('display.max_columns', 500)\n"
   ]
  },
  {
   "cell_type": "code",
   "execution_count": null,
   "id": "f43d96cb",
   "metadata": {},
   "outputs": [],
   "source": [
    "CICIDS_columns=pd.read_csv(\"./datasets/CICIDS18_Shuffled_Reduced.csv\")\n",
    "CICIDS_columns"
   ]
  },
  {
   "cell_type": "code",
   "execution_count": null,
   "id": "bd7c9208",
   "metadata": {},
   "outputs": [],
   "source": [
    "CICIDS_columns=CICIDS_columns.drop(columns=['label'])\n",
    "CICIDS_columns=CICIDS_columns.drop(columns=['Timestamp'])\n",
    "\n",
    "CICIDS_train_X=pd.DataFrame(CICIDS_train_X, columns=list(CICIDS_columns.columns.values))\n",
    "CICIDS_train_Y=pd.DataFrame(CICIDS_train_Y, columns=['label'])\n",
    "CICIDS_test_X=pd.DataFrame(CICIDS_test_X, columns=list(CICIDS_columns.columns.values))\n",
    "CICIDS_test_Y=pd.DataFrame(CICIDS_test_Y, columns=['label'])\n",
    "CICIDS_train_X"
   ]
  },
  {
   "cell_type": "code",
   "execution_count": null,
   "id": "4cd432de",
   "metadata": {},
   "outputs": [],
   "source": [
    "print(\"train size, test size, contamination in train\")\n",
    "CICIDS_train_X_no_attack=pd.concat([CICIDS_train_X, CICIDS_train_Y], axis=1)\n",
    "CICIDS_train_X_no_attack=CICIDS_train_X_no_attack[CICIDS_train_X_no_attack.label == 0]\n",
    "CICIDS_train_X_no_attack=CICIDS_train_X_no_attack.drop(['label'], axis=1)\n",
    "CICIDS_train_X_no_attack"
   ]
  },
  {
   "cell_type": "code",
   "execution_count": null,
   "id": "e41ae665",
   "metadata": {},
   "outputs": [],
   "source": [
    "#pd.set_option('display.max_rows', 500)\n",
    "#CICIDS_X.dtypes"
   ]
  },
  {
   "cell_type": "code",
   "execution_count": null,
   "id": "e678e967",
   "metadata": {},
   "outputs": [],
   "source": [
    "discrete_columns = ['Protocol','Fwd_PSH_Flags','Bwd_PSH_Flags','Fwd_URG_Flags', 'Bwd_URG_Flags',\n",
    "                    'FIN_Flag_Cnt','SYN_Flag_Cnt','RST_Flag_Cnt','PSH_Flag_Cnt','ACK_Flag_Cnt',\n",
    "                    'URG_Flag_Cnt','CWE_Flag_Count','ECE_Flag_Cnt','DownUp_Ratio','Fwd_Bytsb_Avg',\n",
    "                    'Fwd_Pktsb_Avg','Fwd_Blk_Rate_Avg','Bwd_Bytsb_Avg','Bwd_Pktsb_Avg','Bwd_Blk_Rate_Avg']\n",
    "\n",
    "all_columns=list(CICIDS_train_X_no_attack.columns.values)"
   ]
  },
  {
   "cell_type": "code",
   "execution_count": null,
   "id": "0c451bdc",
   "metadata": {},
   "outputs": [],
   "source": [
    "all_columns"
   ]
  },
  {
   "cell_type": "code",
   "execution_count": null,
   "id": "f7b9b152",
   "metadata": {},
   "outputs": [],
   "source": [
    "continuous_columns= list(set(all_columns) - set(discrete_columns))\n",
    "continuous_columns"
   ]
  },
  {
   "cell_type": "code",
   "execution_count": null,
   "id": "527f7df6",
   "metadata": {},
   "outputs": [],
   "source": [
    "continuous_columns=[CICIDS_train_X_no_attack.columns.get_loc(c) for c in continuous_columns if c in CICIDS_train_X_no_attack]"
   ]
  },
  {
   "cell_type": "code",
   "execution_count": null,
   "id": "1a1bd542",
   "metadata": {},
   "outputs": [],
   "source": [
    "tgan = TGANModel(continuous_columns,\n",
    "                 max_epoch=20,#10\n",
    "                 steps_per_epoch=100,\n",
    "                 save_checkpoints=True,\n",
    "                 restore_session=False,\n",
    "                 batch_size=1024,\n",
    "                 z_dim=100,\n",
    "                 noise=0.2,\n",
    "                 l2norm=0.0001,\n",
    "                 learning_rate=0.001,\n",
    "                 num_gen_rnn=100,\n",
    "                 num_gen_feature=100,\n",
    "                 num_dis_layers=1,\n",
    "                 num_dis_hidden=100,\n",
    "                 optimizer='AdamOptimizer'\n",
    "                )\n",
    "\n",
    "tgan.fit(CICIDS_train_X_no_attack)"
   ]
  },
  {
   "cell_type": "code",
   "execution_count": null,
   "id": "91939d0f",
   "metadata": {},
   "outputs": [],
   "source": [
    "num_samples = 50000\n",
    "X_ood = tgan.sample(num_samples)"
   ]
  },
  {
   "cell_type": "code",
   "execution_count": null,
   "id": "3fb93736",
   "metadata": {},
   "outputs": [],
   "source": [
    "X_ood=X_ood.apply(pd.to_numeric)"
   ]
  },
  {
   "cell_type": "code",
   "execution_count": null,
   "id": "ef6ea2dc",
   "metadata": {},
   "outputs": [],
   "source": [
    "#remove identical elements from the generated attacks\n",
    "a= CICIDS_train_X_no_attack.to_numpy()\n",
    "b=X_ood.to_numpy()\n",
    "res = (b[:, None] == a).all(-1).any(-1)\n",
    "c=b[np.array(res==False)]\n",
    "X_ood=c\n",
    "CICIDS_train_X_no_attack.to_numpy()\n",
    "CICIDS_train_X_no_attack.shape, X_ood.shape"
   ]
  },
  {
   "cell_type": "code",
   "execution_count": null,
   "id": "7565065e",
   "metadata": {},
   "outputs": [],
   "source": [
    "from scipy.spatial import distance\n",
    "from sklearn.metrics.pairwise import euclidean_distances"
   ]
  },
  {
   "cell_type": "code",
   "execution_count": null,
   "id": "8c497e9c",
   "metadata": {},
   "outputs": [],
   "source": [
    "CICIDS_train_X__no_attacks_augmented=np.vstack((CICIDS_train_X_no_attack, X_ood))\n",
    "CICIDS_train_Y__no_attacks_augmented=np.vstack((np.zeros((CICIDS_train_X_no_attack.shape[0],1)),\n",
    "                                                 np.ones((X_ood.shape[0], 1))))"
   ]
  },
  {
   "cell_type": "code",
   "execution_count": null,
   "id": "030219f8",
   "metadata": {},
   "outputs": [],
   "source": [
    "xb=xgb.XGBClassifier(objective='binary:logistic', use_label_encoder=False )\n",
    "xb.fit(CICIDS_train_X__no_attacks_augmented, CICIDS_train_Y__no_attacks_augmented)\n",
    "predicted=xb.predict(CICIDS_test_X)\n",
    "\n",
    "accuracy=accuracy_score(CICIDS_test_Y, predicted)\n",
    "tn, fp, fn, tp = confusion_matrix(CICIDS_test_Y, predicted).ravel()\n",
    "mcc=matthews_corrcoef(CICIDS_test_Y, predicted)\n",
    "print(\"tp, tn, fp, fn, accuracy, mcc:\")\n",
    "tp, tn, fp, fn, accuracy, mcc"
   ]
  },
  {
   "cell_type": "code",
   "execution_count": null,
   "id": "4afb1f12",
   "metadata": {},
   "outputs": [],
   "source": [
    "dataset='cicids'\n",
    "normal_in_training_set=np.unique(CICIDS_train_X_no_attack.shape[0])\n",
    "original_attack_in_training_set=0\n",
    "normal_in_test_set=np.unique(CICIDS_test_Y, return_counts=True)[1][0]\n",
    "attacks_in_test_set=np.unique(CICIDS_test_Y, return_counts=True)[1][1]\n",
    "generated_attacks=X_ood.shape[0]\n",
    "cicids_competitors.write(dataset+', '+\n",
    "                       'TabGAN, '+\n",
    "                       'XGBoost, '+\n",
    "                       '0.6--0.4, '+\n",
    "                       str(normal_in_training_set)+', '+\n",
    "                       str(original_attack_in_training_set)+', '+\n",
    "                       str(generated_attacks)+', '+\n",
    "                       str(normal_in_test_set)+', '+\n",
    "                       str(attacks_in_test_set)+', '+\n",
    "                       str(CICIDS_test_X.shape[1])+', '+\n",
    "                       ' REMOVE IDENTICAL ELEMENTS, '+\n",
    "                       '{}, {}, {}, {}, {:3f}, {:3f} \\n'.format(tp, tn, fp, fn, accuracy, mcc))\n",
    "cicids_competitors.flush()"
   ]
  },
  {
   "cell_type": "code",
   "execution_count": null,
   "id": "5006ef8e",
   "metadata": {},
   "outputs": [],
   "source": [
    "contamination=0.1\n",
    "\n",
    "total=int(CICIDS_train_X_no_attack.shape[0]*contamination)\n",
    "\n",
    "if(total > X_ood.shape[0]):\n",
    "    print(\"contamination is larger than the available attacks\")\n",
    "    sys.exit(0)\n",
    "\n",
    "    \n",
    "idx = np.random.randint(X_ood.shape[0], size=total)\n",
    "attacks=X_ood[idx,:]\n",
    "CICIDS_train_X__no_attacks_augmented=np.vstack((CICIDS_train_X_no_attack, X_ood))\n",
    "CICIDS_train_Y__no_attacks_augmented=np.vstack((np.zeros((CICIDS_train_X_no_attack.shape[0],1)),\n",
    "                                                 np.ones((X_ood.shape[0], 1))))\n",
    "\n",
    "contamination=contamination/(1+contamination)\n",
    "                                                 \n",
    "contamination"
   ]
  },
  {
   "cell_type": "code",
   "execution_count": null,
   "id": "edf79cc4",
   "metadata": {},
   "outputs": [],
   "source": [
    "isol_1=IsolationForest(n_estimators=300,\n",
    "                     max_samples='auto',\n",
    "                     contamination=contamination,\n",
    "                     max_features=1.0,\n",
    "                     bootstrap=False,\n",
    "                     n_jobs=12,warm_start=False).fit(CICIDS_train_X__no_attacks_augmented)\n",
    "\n",
    "predicted=isol_1.predict(CICIDS_test_X.to_numpy())\n",
    "\n",
    "Y=CICIDS_test_Y.to_numpy().T[0]\n",
    "predicted=np.where(predicted==-1, 1, 0)\n",
    "accuracy=accuracy_score(Y, predicted)\n",
    "mcc=matthews_corrcoef(Y, predicted)\n",
    "tn, fp, fn, tp= confusion_matrix(Y, predicted).ravel()\n",
    "tp, tn, fp, fn, accuracy, mcc"
   ]
  },
  {
   "cell_type": "code",
   "execution_count": null,
   "id": "753cb4fe",
   "metadata": {},
   "outputs": [],
   "source": [
    "dataset='cicids'\n",
    "normal_in_training_set=np.unique(CICIDS_train_X_no_attack.shape[0])\n",
    "original_attack_in_training_set=0\n",
    "normal_in_test_set=np.unique(CICIDS_test_Y, return_counts=True)[1][0]\n",
    "attacks_in_test_set=np.unique(CICIDS_test_Y, return_counts=True)[1][1]\n",
    "generated_attacks=X_ood.shape[0]\n",
    "cicids_competitors.write(dataset+', '+\n",
    "                       'TabGAN, '+\n",
    "                       'Isolation Forest, '+\n",
    "                       '0.6--0.4, '+\n",
    "                       str(normal_in_training_set)+', '+\n",
    "                       str(original_attack_in_training_set)+', '+\n",
    "                       str(generated_attacks)+', '+\n",
    "                       str(normal_in_test_set)+', '+\n",
    "                       str(attacks_in_test_set)+', '+\n",
    "                       str(CICIDS_test_X.shape[1])+', '+\n",
    "                       ' REMOVE IDENTICAL ELEMENTS, '+\n",
    "                       '{}, {}, {}, {}, {:3f}, {:3f} \\n'.format(tp, tn, fp, fn, accuracy, mcc))\n",
    "cicids_competitors.flush()"
   ]
  },
  {
   "cell_type": "code",
   "execution_count": null,
   "id": "a9d0acd1",
   "metadata": {},
   "outputs": [],
   "source": [
    "clf = CBLOF(n_jobs=12, contamination=contamination)#, n_clusters=8\n",
    "clf.fit(CICIDS_train_X__no_attacks_augmented)\n",
    "predicted = clf.predict(CICIDS_test_X.to_numpy())  # outlier labels (0 or 1)\n",
    "Y=CICIDS_test_Y.to_numpy().T[0]\n",
    "accuracy=accuracy_score(Y, predicted)\n",
    "mcc=matthews_corrcoef(Y, predicted)\n",
    "tn, fp, fn, tp= confusion_matrix(Y, predicted).ravel()\n",
    "tp, tn, fp, fn, accuracy, mcc"
   ]
  },
  {
   "cell_type": "code",
   "execution_count": null,
   "id": "6a165491",
   "metadata": {},
   "outputs": [],
   "source": [
    "dataset='cicids'\n",
    "normal_in_training_set=np.unique(CICIDS_train_X_no_attack.shape[0])\n",
    "original_attack_in_training_set=0\n",
    "normal_in_test_set=np.unique(CICIDS_test_Y, return_counts=True)[1][0]\n",
    "attacks_in_test_set=np.unique(CICIDS_test_Y, return_counts=True)[1][1]\n",
    "generated_attacks=X_ood.shape[0]\n",
    "cicids_competitors.write(dataset+', '+\n",
    "                       'TabGAN, '+\n",
    "                       'CBLOF, '+\n",
    "                       '0.6--0.4, '+\n",
    "                       str(normal_in_training_set)+', '+\n",
    "                       str(original_attack_in_training_set)+', '+\n",
    "                       str(generated_attacks)+', '+\n",
    "                       str(normal_in_test_set)+', '+\n",
    "                       str(attacks_in_test_set)+', '+\n",
    "                       str(CICIDS_test_X.shape[1])+', '+\n",
    "                       ' REMOVE IDENTICAL ELEMENTS, '+\n",
    "                       '{}, {}, {}, {}, {:3f}, {:3f} \\n'.format(tp, tn, fp, fn, accuracy, mcc))\n",
    "cicids_competitors.flush()"
   ]
  },
  {
   "cell_type": "code",
   "execution_count": null,
   "id": "61cb4576",
   "metadata": {},
   "outputs": [],
   "source": [
    "#saving generated attacks\n",
    "np.save('/home/notebook/cicids/Tab_GAN.npy',X_ood)"
   ]
  }
 ],
 "metadata": {
  "kernelspec": {
   "display_name": "dcml",
   "language": "python",
   "name": "dcml"
  },
  "language_info": {
   "codemirror_mode": {
    "name": "ipython",
    "version": 3
   },
   "file_extension": ".py",
   "mimetype": "text/x-python",
   "name": "python",
   "nbconvert_exporter": "python",
   "pygments_lexer": "ipython3",
   "version": "3.7.10"
  }
 },
 "nbformat": 4,
 "nbformat_minor": 5
}
